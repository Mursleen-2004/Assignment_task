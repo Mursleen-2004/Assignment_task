{
 "cells": [
  {
   "cell_type": "markdown",
   "id": "de477bfe-4b8d-47e9-9cd0-a6a731b73c38",
   "metadata": {},
   "source": [
    "# Data Science Notebook\r\n"
   ]
  },
  {
   "cell_type": "markdown",
   "id": "0ef77d78-1a8f-4d32-bb01-9d767e3083a7",
   "metadata": {},
   "source": [
    "## Introduction\n",
    "In this notebook, we explore various data science concepts, including the languages, libraries, and tools used in the field of data science.\n"
   ]
  },
  {
   "cell_type": "markdown",
   "id": "aea765f5-9a2c-4c0d-bb01-407d44a86b40",
   "metadata": {},
   "source": [
    "## Data Science Languages\r\n",
    "- Python\r\n",
    "- R\r\n",
    "- SQL\r\n",
    "- Java\r\n",
    "- Scala\r\n"
   ]
  },
  {
   "cell_type": "markdown",
   "id": "da8b64ba-2508-41d0-a19d-df21cc5a7389",
   "metadata": {},
   "source": [
    "## Data Science Libraries\n",
    "- Pandas\n",
    "- NumPy\n",
    "- SciPy\n",
    "- Matplotlib\n",
    "- Scikit-learn\n"
   ]
  },
  {
   "cell_type": "markdown",
   "id": "a1c76795-264a-47e8-b7dd-56dcc8609e2a",
   "metadata": {},
   "source": [
    "## Data Science Tools\n",
    "\n",
    "| Tool            | Purpose                        |\n",
    "|-----------------|--------------------------------|\n",
    "| Jupyter Notebooks | Data exploration and visualization |\n",
    "| GitHub          | Code versioning and sharing    |\n",
    "| Apache Hadoop   | Big data processing            |\n",
    "| TensorFlow      | Machine learning framework     |\n",
    "| Tableau         | Data visualization             |\n"
   ]
  },
  {
   "cell_type": "markdown",
   "id": "3a276d21-4b7f-418a-bb22-a89c25b98331",
   "metadata": {},
   "source": [
    "## Arithmetic Expression Examples\n",
    "In this section, we demonstrate basic arithmetic expressions in Python.\n"
   ]
  },
  {
   "cell_type": "code",
   "execution_count": 3,
   "id": "cb0cb5d6-5d5d-4d64-affe-7bcaab83de3d",
   "metadata": {},
   "outputs": [
    {
     "data": {
      "text/plain": [
       "(50, 15)"
      ]
     },
     "execution_count": 3,
     "metadata": {},
     "output_type": "execute_result"
    }
   ],
   "source": [
    "# Example code to multiply and add numbers\n",
    "a = 10\n",
    "b = 5\n",
    "result_multiplication = a * b\n",
    "result_addition = a + b\n",
    "result_multiplication, result_addition\n"
   ]
  },
  {
   "cell_type": "code",
   "execution_count": 4,
   "id": "65c2e84a-9992-41ac-afdd-f41fd77dde53",
   "metadata": {},
   "outputs": [
    {
     "data": {
      "text/plain": [
       "2.0"
      ]
     },
     "execution_count": 4,
     "metadata": {},
     "output_type": "execute_result"
    }
   ],
   "source": [
    "# Convert minutes to hours\n",
    "minutes = 120\n",
    "hours = minutes / 60\n",
    "hours\n"
   ]
  },
  {
   "cell_type": "markdown",
   "id": "c7aa20bb-422a-4ad6-9b66-9b0739846770",
   "metadata": {},
   "source": [
    "## Objectives\n",
    "- Learn the key data science languages.\n",
    "- Explore useful data science libraries.\n",
    "- Understand the various tools in the data science ecosystem.\n"
   ]
  },
  {
   "cell_type": "markdown",
   "id": "23d52e69-9e66-4c49-86f8-7b052f664e2c",
   "metadata": {},
   "source": [
    "## Author\n",
    "This notebook was created by Mursleen Bukhari.\n"
   ]
  },
  {
   "cell_type": "code",
   "execution_count": null,
   "id": "fc8e07f4-7139-4c07-8825-1d961cfd27b4",
   "metadata": {},
   "outputs": [],
   "source": []
  }
 ],
 "metadata": {
  "kernelspec": {
   "display_name": "Python 3 (ipykernel)",
   "language": "python",
   "name": "python3"
  },
  "language_info": {
   "codemirror_mode": {
    "name": "ipython",
    "version": 3
   },
   "file_extension": ".py",
   "mimetype": "text/x-python",
   "name": "python",
   "nbconvert_exporter": "python",
   "pygments_lexer": "ipython3",
   "version": "3.11.7"
  }
 },
 "nbformat": 4,
 "nbformat_minor": 5
}
